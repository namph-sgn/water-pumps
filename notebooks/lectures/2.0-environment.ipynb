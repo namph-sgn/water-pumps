{
 "cells": [
  {
   "cell_type": "markdown",
   "metadata": {},
   "source": [
    "<table style=\"width:100%; border: 0px solid black;\">\n",
    "    <tr style=\"width: 100%; border: 0px solid black;\">\n",
    "        <td style=\"width:75%; border: 0px solid black;\">\n",
    "            <a href=\"http://www.drivendata.org\">\n",
    "                <img src=\"https://s3.amazonaws.com/drivendata.org/kif-example/img/dd.png\" />\n",
    "            </a>\n",
    "        </td>\n",
    "    </tr>\n",
    "</table>"
   ]
  },
  {
   "cell_type": "markdown",
   "metadata": {},
   "source": [
    "# Data Science is Software\n",
    "## Developer #lifehacks for the Jupyter Data Scientist\n",
    "\n",
    "### Section 2:  This is my house\n",
    "#### Environment reproducibility for Python"
   ]
  },
  {
   "cell_type": "code",
   "execution_count": 4,
   "metadata": {},
   "outputs": [],
   "source": [
    "from __future__ import print_function\n",
    "\n",
    "import os\n",
    "import sys\n",
    "\n",
    "PROJ_ROOT = os.path.join(os.pardir, os.pardir)\n",
    "\n",
    "# add local python functions\n",
    "sys.path.append(os.path.join(PROJ_ROOT, \"src\"))"
   ]
  },
  {
   "cell_type": "markdown",
   "metadata": {},
   "source": [
    "#### 2.1 The [watermark](https://github.com/rasbt/watermark) extension\n",
    "\n",
    "Tell everyone when your notebook was run, and with which packages. This is especially useful for nbview, blog posts, and other media where you are not sharing the notebook as executable code."
   ]
  },
  {
   "cell_type": "code",
   "execution_count": 1,
   "metadata": {},
   "outputs": [
    {
     "name": "stdout",
     "output_type": "stream",
     "text": [
      "Collecting watermark\n",
      "  Downloading watermark-2.2.0-py2.py3-none-any.whl (6.8 kB)\n",
      "Requirement already satisfied: ipython in /home/nam/Development/anaconda3/lib/python3.8/site-packages (from watermark) (7.19.0)\n",
      "Requirement already satisfied: jedi>=0.10 in /home/nam/Development/anaconda3/lib/python3.8/site-packages (from ipython->watermark) (0.17.1)\n",
      "Requirement already satisfied: decorator in /home/nam/Development/anaconda3/lib/python3.8/site-packages (from ipython->watermark) (4.4.2)\n",
      "Requirement already satisfied: pygments in /home/nam/Development/anaconda3/lib/python3.8/site-packages (from ipython->watermark) (2.7.2)\n",
      "Requirement already satisfied: pexpect>4.3; sys_platform != \"win32\" in /home/nam/Development/anaconda3/lib/python3.8/site-packages (from ipython->watermark) (4.8.0)\n",
      "Requirement already satisfied: backcall in /home/nam/Development/anaconda3/lib/python3.8/site-packages (from ipython->watermark) (0.2.0)\n",
      "Requirement already satisfied: setuptools>=18.5 in /home/nam/Development/anaconda3/lib/python3.8/site-packages (from ipython->watermark) (50.3.1.post20201107)\n",
      "Requirement already satisfied: prompt-toolkit!=3.0.0,!=3.0.1,<3.1.0,>=2.0.0 in /home/nam/Development/anaconda3/lib/python3.8/site-packages (from ipython->watermark) (3.0.8)\n",
      "Requirement already satisfied: pickleshare in /home/nam/Development/anaconda3/lib/python3.8/site-packages (from ipython->watermark) (0.7.5)\n",
      "Requirement already satisfied: traitlets>=4.2 in /home/nam/Development/anaconda3/lib/python3.8/site-packages (from ipython->watermark) (5.0.5)\n",
      "Requirement already satisfied: parso<0.8.0,>=0.7.0 in /home/nam/Development/anaconda3/lib/python3.8/site-packages (from jedi>=0.10->ipython->watermark) (0.7.0)\n",
      "Requirement already satisfied: ptyprocess>=0.5 in /home/nam/Development/anaconda3/lib/python3.8/site-packages (from pexpect>4.3; sys_platform != \"win32\"->ipython->watermark) (0.6.0)\n",
      "Requirement already satisfied: wcwidth in /home/nam/Development/anaconda3/lib/python3.8/site-packages (from prompt-toolkit!=3.0.0,!=3.0.1,<3.1.0,>=2.0.0->ipython->watermark) (0.2.5)\n",
      "Requirement already satisfied: ipython-genutils in /home/nam/Development/anaconda3/lib/python3.8/site-packages (from traitlets>=4.2->ipython->watermark) (0.2.0)\n",
      "Installing collected packages: watermark\n",
      "Successfully installed watermark-2.2.0\n"
     ]
    }
   ],
   "source": [
    "# install the watermark extension\n",
    "!pip install watermark\n",
    "\n",
    "# once it is installed, you'll just need this in future notebooks:\n",
    "%load_ext watermark"
   ]
  },
  {
   "cell_type": "code",
   "execution_count": 2,
   "metadata": {
    "scrolled": true
   },
   "outputs": [
    {
     "name": "stdout",
     "output_type": "stream",
     "text": [
      "Author: Peter Bull\n",
      "\n",
      "Python implementation: CPython\n",
      "Python version       : 3.8.5\n",
      "IPython version      : 7.19.0\n",
      "\n",
      "numpy : 1.19.2\n",
      "pandas: 1.1.3\n",
      "\n",
      "Git hash: 9346522e03c824249e6fa06cb9b38b2c121a1ee6\n",
      "\n"
     ]
    }
   ],
   "source": [
    "%watermark -a \"Peter Bull\" -d -t -v -p numpy,pandas -g"
   ]
  },
  {
   "cell_type": "markdown",
   "metadata": {},
   "source": [
    "#### 2.2 Laying the foundation\n",
    "\n",
    "Continuum's `conda` tool provides a way to create [isolated environments](http://conda.pydata.org/docs/using/envs.html). In fact, you've already seen this at work if you followed the [pydata setup](https://github.com/drivendata/pydata-setup) instructions to setup your machine for this tutorial. The `conda env` functionality let's you created an isolated environment on your machine for \n",
    "\n",
    " - Start from \"scratch\" on each project\n",
    " - Choose Python 2 or 3 as appropriate\n",
    "\n",
    "To create an empty environment:\n",
    "\n",
    " - `conda create -n <name> python=3`\n",
    "\n",
    "**Note: `python=2` will create a Python 2 environment; `python=3` will create a Python 3 environment.**\n",
    "\n",
    "\n",
    "To work in a particular virtual environment:\n",
    "\n",
    " - `conda activate <name>`\n",
    " \n",
    "To leave a virtual environment:\n",
    "\n",
    " - `conda deactivate`\n",
    "\n",
    "**Note: on Windows, the commands are just `activate` and `deactivate`, no need to type `conda`.**\n",
    "\n",
    "There are other Python tools for environment isolation, but none of them are perfect. If you're interested in the other options, [`virtualenv`](https://virtualenv.pypa.io/en/stable/) and [`pyenv`](https://github.com/yyuu/pyenv) both provide environment isolation. There are _sometimes_ compatibility issues between the Anaconda Python distribution and these packages, so if you've got Anaconda on your machine you can use `conda env` to create and manage environments.\n",
    "\n",
    "-------------------\n",
    " \n",
    "**`#lifehack`: create a new environment for every project you work on**\n",
    "\n",
    "**`#lifehack`: if you use anaconda to manage packages using `mkvirtualenv --system-site-packages <name>` means you don't have to recompile large packages**\n",
    "\n",
    "------------\n"
   ]
  },
  {
   "cell_type": "markdown",
   "metadata": {},
   "source": [
    "#### 2.3 The `pip` [requirements.txt](https://pip.readthedocs.org/en/1.1/requirements.html) file\n",
    "\n",
    "It's a convention in the Python ecosystem to track a project's dependencies in a file called `requirements.txt`. We recommend using this file to keep track of your MRE, \"Minimum reproducible environment\".\n",
    "\n",
    "Conda\n",
    "\n",
    "-----------\n",
    "\n",
    "**`#lifehack`: never again run `pip install <package>`. Instead, update `requirements.txt` and run `pip install -r requirements.txt`**\n",
    "\n",
    "**`#lifehack`: for data science projects, favor `package>=0.0.0` rather than `package==0.0.0`. This works well with the `--system-site-packages` flag so you don't have many versions of large packages with complex dependencies sitting around (e.g., numpy, scipy, pandas)**\n",
    "\n",
    "-------\n"
   ]
  },
  {
   "cell_type": "code",
   "execution_count": 5,
   "metadata": {},
   "outputs": [
    {
     "name": "stdout",
     "output_type": "stream",
     "text": [
      "coverage>=4.0.3\n",
      "engarde>=0.3.1\n",
      "ipython>=4.1.2\n",
      "jupyter>=1.0.0\n",
      "matplotlib>=1.5.1\n",
      "notebook>=4.1.0\n",
      "numpy>=1.10.4\n",
      "pandas>=0.17.1\n",
      "seaborn>=0.7.0\n",
      "q>=2.6\n",
      "python-dotenv>=0.5.0\n",
      "watermark>=1.3.0\n",
      "pytest>=2.9.2\n",
      "tqdm\n",
      "jupyter\n",
      "ipython\n",
      "numpy\n",
      "pandas\n",
      "matplotlib\n",
      "watermark\n",
      "scikit-learn\n",
      "scipy\n",
      "nbdime\n",
      "runipy\n",
      "\n"
     ]
    }
   ],
   "source": [
    "# what does requirements.txt look like?\n",
    "print(open(os.path.join(PROJ_ROOT, 'requirements.txt')).read())"
   ]
  },
  {
   "cell_type": "markdown",
   "metadata": {
    "collapsed": true
   },
   "source": [
    "The format for a line in the requirements file is:\n",
    "\n",
    " | Syntax | Result |\n",
    " | --- | --- |\n",
    " | `package_name` | for whatever the latest version on PyPI is |\n",
    " | `package_name==X.X.X` | for an exact match of version X.X.X |\n",
    " | `package_name>=X.X.X` | for at least version X.X.X |\n",
    " \n",
    "Now, contributors can create a new virtual environment (using conda or any other tool) and install your dependencies just by running:\n",
    "\n",
    " - `pip install -r requirements.txt`"
   ]
  },
  {
   "cell_type": "markdown",
   "metadata": {},
   "source": [
    "#### 2.4 Separation of configuration from codebase\n",
    "\n",
    "There are some things you don't want to be openly reproducible: your private database url, your AWS credentials for downloading the data, your SSN, which you decided to use as a hash. These shouldn't live in source control, but may be essential for collaborators or others reproducing your work.\n",
    "\n",
    "This is a situation where we can learn from some software engineering best practices. The [12-factor app principles](http://12factor.net/) give a set of best-practices for building web applications. Many of these principles are relevant for best practices in the data-science codebases as well.\n",
    "\n",
    "Using a dependency manifest like `requirements.txt` satisfies [II. Explicitly declare and isolate dependencies](http://12factor.net/dependencies). The important principle here is [III. Store config in the environment](http://12factor.net/config):\n",
    "\n",
    " > An app’s config is everything that is likely to vary between deploys (staging, production, developer environments, etc). Apps sometimes store config as constants in the code. This is a violation of twelve-factor, which requires strict separation of config from code. Config varies substantially across deploys, code does not. A litmus test for whether an app has all config correctly factored out of the code is whether the codebase could be made open source at any moment, without compromising any credentials.\n",
    " \n",
    "The [`dotenv` pacakge](https://pypi.python.org/pypi/python-dotenv) allows you to easily store these variables in a file that is not in source control (as long as you keep the line `.env` in your `.gitignore` file!). You can then reference these variables as environment variables in your application with `os.environ.get('VARIABLE_NAME')`."
   ]
  },
  {
   "cell_type": "code",
   "execution_count": 6,
   "metadata": {},
   "outputs": [
    {
     "name": "stdout",
     "output_type": "stream",
     "text": [
      "# Environment variables go here, can be read by `python-dotenv` package:\n",
      "#\n",
      "#   `src/script.py`\n",
      "#   ----------------------------------------------------------------\n",
      "#    import dotenv\n",
      "#\n",
      "#    project_dir = os.path.join(os.path.dirname(__file__), os.pardir)\n",
      "#    dotenv_path = os.path.join(project_dir, '.env')\n",
      "#    dotenv.load_dotenv(dotenv_path)\n",
      "#   ----------------------------------------------------------------\n",
      "#\n",
      "# DO NOT ADD THIS FILE TO VERSION CONTROL!\n",
      "\n"
     ]
    }
   ],
   "source": [
    "print(open(os.path.join(PROJ_ROOT, '.env')).read())"
   ]
  }
 ],
 "metadata": {
  "kernelspec": {
   "display_name": "Python 3",
   "language": "python",
   "name": "python3"
  },
  "language_info": {
   "codemirror_mode": {
    "name": "ipython",
    "version": 3
   },
   "file_extension": ".py",
   "mimetype": "text/x-python",
   "name": "python",
   "nbconvert_exporter": "python",
   "pygments_lexer": "ipython3",
   "version": "3.8.5"
  },
  "varInspector": {
   "cols": {
    "lenName": 16,
    "lenType": 16,
    "lenVar": 40
   },
   "kernels_config": {
    "python": {
     "delete_cmd_postfix": "",
     "delete_cmd_prefix": "del ",
     "library": "var_list.py",
     "varRefreshCmd": "print(var_dic_list())"
    },
    "r": {
     "delete_cmd_postfix": ") ",
     "delete_cmd_prefix": "rm(",
     "library": "var_list.r",
     "varRefreshCmd": "cat(var_dic_list()) "
    }
   },
   "types_to_exclude": [
    "module",
    "function",
    "builtin_function_or_method",
    "instance",
    "_Feature"
   ],
   "window_display": true
  }
 },
 "nbformat": 4,
 "nbformat_minor": 1
}
